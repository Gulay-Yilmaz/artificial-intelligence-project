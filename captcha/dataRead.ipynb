{
 "cells": [
  {
   "cell_type": "markdown",
   "id": "705d9c73",
   "metadata": {},
   "source": [
    "# Veri Setini Okuma"
   ]
  },
  {
   "cell_type": "code",
   "execution_count": 2,
   "id": "678afe12",
   "metadata": {},
   "outputs": [],
   "source": [
    "from pathlib import Path"
   ]
  },
  {
   "cell_type": "markdown",
   "id": "cdf03860",
   "metadata": {},
   "source": [
    "Bu notebookta veri seti üzerinden okuma yapılarak. Dataframe üzerine veriler eklenmektedir. Ayrıca veri etiketleri ayrıştırılmıştır."
   ]
  },
  {
   "cell_type": "code",
   "execution_count": null,
   "id": "e1c2d1ab",
   "metadata": {},
   "outputs": [],
   "source": [
    "def readData():\n",
    "    # Verileri alacağımız dataSet dizinindeki tüm resimler alma\n",
    "    data_dir = Path(\"./dataSet/\")\n",
    "    images = list(data_dir.glob(\"*.png\"))\n",
    "    \n",
    "    characters = set()\n",
    "\n",
    "    len_captcha = []\n",
    "\n",
    "    captcha_dataset = []\n",
    "    \n",
    "    for img_path in images:\n",
    "        \n",
    "        #Verileri etiketlerine göre ayrıştırma\n",
    "        label = img_path.name.split(\".png\")[0]\n",
    "        captcha_length.append(len(label))\n",
    "        \n",
    "        captcha_dataset.append((str(img_path), label))\n",
    "\n",
    "        # Veride bulunan karakterleri tuttuğumuz dizi\n",
    "        for character in label:\n",
    "            characters.add(character)\n",
    "            \n",
    "    characters = sorted(characters)\n",
    "    \n",
    "    df_captcha = pd.DataFrame(captcha_dataset, columns=[\"path\", \"label\"], index=None)\n",
    "    \n",
    "    return characters, df_captcha\n",
    "    \n",
    "    \n",
    "    "
   ]
  }
 ],
 "metadata": {
  "kernelspec": {
   "display_name": "Python 3 (ipykernel)",
   "language": "python",
   "name": "python3"
  },
  "language_info": {
   "codemirror_mode": {
    "name": "ipython",
    "version": 3
   },
   "file_extension": ".py",
   "mimetype": "text/x-python",
   "name": "python",
   "nbconvert_exporter": "python",
   "pygments_lexer": "ipython3",
   "version": "3.9.1"
  }
 },
 "nbformat": 4,
 "nbformat_minor": 5
}
